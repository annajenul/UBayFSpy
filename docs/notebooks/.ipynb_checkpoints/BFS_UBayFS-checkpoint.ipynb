{
 "cells": [
  {
   "cell_type": "markdown",
   "id": "5903f7ac",
   "metadata": {},
   "source": [
    "# Block feature selection with UBayFS\n",
    "\n",
    "## Introduction\n",
    "Block feature selection is essential in different fields of application, including treatment outcome prediction in healthcare (for diseases such as cancer). Commonly, data is available from multiple sources, including clinical, genetic, and image data, where measurements from a common source are aggregated into a feature block. In many cases, however, not all data sources are relevant for machine learning models: Suppose we suspected that image data would not contain additional information to the other feature blocks. In that case, it might be easier, in terms of data acquisition and availability, to favor models that do not depend on all data sources at once. In order to detect that a single feature block does not provide any additional information, block feature selection can be deployed. UBayFS is able to cover this scenario by specifying constraints on a block level.\n",
    "\n",
    "## UBayFS example\n",
    "At first we load the package and the Breast Cancer Wisconsin (BCW) example dataset, which is described in the main notebook (add link)."
   ]
  },
  {
   "cell_type": "code",
   "execution_count": 1,
   "id": "56dc0b25",
   "metadata": {},
   "outputs": [],
   "source": [
    "import pandas as pd\n",
    "import numpy as np\n",
    "import sys\n",
    "sys.path.append(\"../../src/UBayFS\")\n",
    "\n",
    "from UBaymodel import UBaymodel\n",
    "from UBayconstraint import UBayconstraint\n",
    "\n",
    "data = pd.read_csv(\"./data/data.csv\")\n",
    "labels = pd.read_csv(\"./data/labels.csv\").replace((\"M\",\"B\"),(0,1)).astype(int)"
   ]
  },
  {
   "cell_type": "markdown",
   "id": "8551c0c1",
   "metadata": {},
   "source": [
    "For block feature selection, it is necessary to define each feature's block affiliation, which is provided either (a) via a block list, or (b) via a block matrix. \n",
    "\n",
    "### Version (a): block list\n",
    "The first example demonstrates how a list of block indices can provide the block structure of the dataset. We define three blocks for the BCW dataset, where the first block contains features with indices 1 to 10, block two features with indices 11 to 20, and block three features with indices 21 to 30."
   ]
  },
  {
   "cell_type": "code",
   "execution_count": 2,
   "id": "3155e5fc",
   "metadata": {},
   "outputs": [
    {
     "data": {
      "text/plain": [
       "[array([0, 1, 2, 3, 4, 5, 6, 7, 8, 9]),\n",
       " array([10, 11, 12, 13, 14, 15, 16, 17, 18, 19]),\n",
       " array([20, 21, 22, 23, 24, 25, 26, 27, 28, 29])]"
      ]
     },
     "execution_count": 2,
     "metadata": {},
     "output_type": "execute_result"
    }
   ],
   "source": [
    "block_list = [np.arange(0,10), np.arange(10,20), np.arange(20,30)]\n",
    "block_list"
   ]
  },
  {
   "cell_type": "markdown",
   "id": "b333c52b",
   "metadata": {},
   "source": [
    "For the UBayFS model, we define a max-size block constraint restricting the number of selected blocks to (up to) one. Thus, the `constraint_vars` parameter is set to the maximum number of blocks to be selected, and `num_elements` contains the number of blocks, which equals the number of elements in the block_list."
   ]
  },
  {
   "cell_type": "code",
   "execution_count": 3,
   "id": "05cc4282",
   "metadata": {},
   "outputs": [],
   "source": [
    "block_constraints = UBayconstraint(rho=np.array([1]), \n",
    "                             constraint_types=[\"max_size\"], \n",
    "                             constraint_vars=[1], \n",
    "                             num_elements=len(block_list),\n",
    "                                block_list = block_list)"
   ]
  },
  {
   "cell_type": "markdown",
   "id": "4d823675",
   "metadata": {},
   "source": [
    "### Version (b): block matrix\n",
    "Assuming the same block structure as for the block list, we demonstrate how to specify the block structure in UBayFS via a block matrix. The block matrix is a binary assignment matrix consisting of rows representing the feature blocks and columns representing the features in the dataset. Note that, in general, a feature may be assigned to an arbitrary number of blocks (i.e., the row and column sums are not restricted), but in practice, a partition of the feature set is sufficient in most cases."
   ]
  },
  {
   "cell_type": "code",
   "execution_count": 4,
   "id": "74412d59",
   "metadata": {},
   "outputs": [
    {
     "data": {
      "text/html": [
       "<div>\n",
       "<style scoped>\n",
       "    .dataframe tbody tr th:only-of-type {\n",
       "        vertical-align: middle;\n",
       "    }\n",
       "\n",
       "    .dataframe tbody tr th {\n",
       "        vertical-align: top;\n",
       "    }\n",
       "\n",
       "    .dataframe thead th {\n",
       "        text-align: right;\n",
       "    }\n",
       "</style>\n",
       "<table border=\"1\" class=\"dataframe\">\n",
       "  <thead>\n",
       "    <tr style=\"text-align: right;\">\n",
       "      <th></th>\n",
       "      <th>0</th>\n",
       "      <th>1</th>\n",
       "      <th>2</th>\n",
       "      <th>3</th>\n",
       "      <th>4</th>\n",
       "      <th>5</th>\n",
       "      <th>6</th>\n",
       "      <th>7</th>\n",
       "      <th>8</th>\n",
       "      <th>9</th>\n",
       "      <th>...</th>\n",
       "      <th>20</th>\n",
       "      <th>21</th>\n",
       "      <th>22</th>\n",
       "      <th>23</th>\n",
       "      <th>24</th>\n",
       "      <th>25</th>\n",
       "      <th>26</th>\n",
       "      <th>27</th>\n",
       "      <th>28</th>\n",
       "      <th>29</th>\n",
       "    </tr>\n",
       "  </thead>\n",
       "  <tbody>\n",
       "    <tr>\n",
       "      <th>0</th>\n",
       "      <td>1.0</td>\n",
       "      <td>1.0</td>\n",
       "      <td>1.0</td>\n",
       "      <td>1.0</td>\n",
       "      <td>1.0</td>\n",
       "      <td>1.0</td>\n",
       "      <td>1.0</td>\n",
       "      <td>1.0</td>\n",
       "      <td>1.0</td>\n",
       "      <td>1.0</td>\n",
       "      <td>...</td>\n",
       "      <td>0.0</td>\n",
       "      <td>0.0</td>\n",
       "      <td>0.0</td>\n",
       "      <td>0.0</td>\n",
       "      <td>0.0</td>\n",
       "      <td>0.0</td>\n",
       "      <td>0.0</td>\n",
       "      <td>0.0</td>\n",
       "      <td>0.0</td>\n",
       "      <td>0.0</td>\n",
       "    </tr>\n",
       "    <tr>\n",
       "      <th>1</th>\n",
       "      <td>0.0</td>\n",
       "      <td>0.0</td>\n",
       "      <td>0.0</td>\n",
       "      <td>0.0</td>\n",
       "      <td>0.0</td>\n",
       "      <td>0.0</td>\n",
       "      <td>0.0</td>\n",
       "      <td>0.0</td>\n",
       "      <td>0.0</td>\n",
       "      <td>0.0</td>\n",
       "      <td>...</td>\n",
       "      <td>0.0</td>\n",
       "      <td>0.0</td>\n",
       "      <td>0.0</td>\n",
       "      <td>0.0</td>\n",
       "      <td>0.0</td>\n",
       "      <td>0.0</td>\n",
       "      <td>0.0</td>\n",
       "      <td>0.0</td>\n",
       "      <td>0.0</td>\n",
       "      <td>0.0</td>\n",
       "    </tr>\n",
       "    <tr>\n",
       "      <th>2</th>\n",
       "      <td>0.0</td>\n",
       "      <td>0.0</td>\n",
       "      <td>0.0</td>\n",
       "      <td>0.0</td>\n",
       "      <td>0.0</td>\n",
       "      <td>0.0</td>\n",
       "      <td>0.0</td>\n",
       "      <td>0.0</td>\n",
       "      <td>0.0</td>\n",
       "      <td>0.0</td>\n",
       "      <td>...</td>\n",
       "      <td>1.0</td>\n",
       "      <td>1.0</td>\n",
       "      <td>1.0</td>\n",
       "      <td>1.0</td>\n",
       "      <td>1.0</td>\n",
       "      <td>1.0</td>\n",
       "      <td>1.0</td>\n",
       "      <td>1.0</td>\n",
       "      <td>1.0</td>\n",
       "      <td>1.0</td>\n",
       "    </tr>\n",
       "  </tbody>\n",
       "</table>\n",
       "<p>3 rows × 30 columns</p>\n",
       "</div>"
      ],
      "text/plain": [
       "    0    1    2    3    4    5    6    7    8    9   ...   20   21   22   23  \\\n",
       "0  1.0  1.0  1.0  1.0  1.0  1.0  1.0  1.0  1.0  1.0  ...  0.0  0.0  0.0  0.0   \n",
       "1  0.0  0.0  0.0  0.0  0.0  0.0  0.0  0.0  0.0  0.0  ...  0.0  0.0  0.0  0.0   \n",
       "2  0.0  0.0  0.0  0.0  0.0  0.0  0.0  0.0  0.0  0.0  ...  1.0  1.0  1.0  1.0   \n",
       "\n",
       "    24   25   26   27   28   29  \n",
       "0  0.0  0.0  0.0  0.0  0.0  0.0  \n",
       "1  0.0  0.0  0.0  0.0  0.0  0.0  \n",
       "2  1.0  1.0  1.0  1.0  1.0  1.0  \n",
       "\n",
       "[3 rows x 30 columns]"
      ]
     },
     "execution_count": 4,
     "metadata": {},
     "output_type": "execute_result"
    }
   ],
   "source": [
    "block_matrix = np.zeros((3, 30))\n",
    "block_matrix[0,np.arange(0,10)] = 1\n",
    "block_matrix[1,np.arange(10,20)] = 1\n",
    "block_matrix[2,np.arange(20,30)] = 1\n",
    "\n",
    "pd.DataFrame(block_matrix)"
   ]
  },
  {
   "cell_type": "markdown",
   "id": "26fe3d59",
   "metadata": {},
   "source": [
    "The same block feature constraints as for the block list can be produced using the block matrix. However, note that the  `num_elements` parameter, specifying the number of blocks, has to be set to the number of rows in the block matrix:"
   ]
  },
  {
   "cell_type": "code",
   "execution_count": 5,
   "id": "75fb36f1",
   "metadata": {},
   "outputs": [],
   "source": [
    "block_constraints = UBayconstraint(rho=np.array([1]), \n",
    "                             constraint_types=[\"max_size\", \"must_link\"], \n",
    "                             constraint_vars=[1,[1,2]], \n",
    "                             num_elements=3,\n",
    "                                block_matrix = block_matrix)"
   ]
  },
  {
   "cell_type": "markdown",
   "id": "b1a2e285",
   "metadata": {},
   "source": [
    "### Block-wise prior weights\n",
    "\n",
    "In addition to block-wise constraints, also prior weights may be specified on block level rather than on feature level. Thus, we define a help function to build the vector of prior block weights. Features from the same block get assigned the same prior weight. In this example, feature weights in block 1 are set to 0.5, feature weights in block 2 are set to 1, and feature weights in block 3 are set to 2."
   ]
  },
  {
   "cell_type": "code",
   "execution_count": 6,
   "id": "2eb826af",
   "metadata": {},
   "outputs": [
    {
     "data": {
      "text/plain": [
       "array([0.5, 0.5, 0.5, 0.5, 0.5, 0.5, 0.5, 0.5, 0.5, 0.5, 1. , 1. , 1. ,\n",
       "       1. , 1. , 1. , 1. , 1. , 1. , 1. , 2. , 2. , 2. , 2. , 2. , 2. ,\n",
       "       2. , 2. , 2. , 2. ])"
      ]
     },
     "execution_count": 6,
     "metadata": {},
     "output_type": "execute_result"
    }
   ],
   "source": [
    "def build_block_weights(blocks, weights):\n",
    "    weights_ass = []\n",
    "    for i in blocks:\n",
    "        weights_ass.append(weights[i])\n",
    "    return np.array(weights_ass)\n",
    "\n",
    "prior_weights = build_block_weights(blocks = np.repeat([0,1,2], 10), weights=np.array([0.5,1,2]))\n",
    "prior_weights"
   ]
  },
  {
   "cell_type": "markdown",
   "id": "9cb49f97",
   "metadata": {},
   "source": [
    "### Evaluation of block feature selection results\n",
    "\n",
    "After specifying the block constraints, we initialize the UBayFS model. In addition to the block constraints, we require that at most three features are selected in total (max-size constraint)."
   ]
  },
  {
   "cell_type": "code",
   "execution_count": 7,
   "id": "6bf3045a",
   "metadata": {},
   "outputs": [],
   "source": [
    "model = UBaymodel(data = data,\n",
    "                 target = labels,\n",
    "                 feat_names = data.columns,\n",
    "                 M = 100,\n",
    "                 tt_split = 0.75,\n",
    "                 nr_features = 10,\n",
    "                 method = [\"mrmr\"],\n",
    "                 weights = prior_weights,\n",
    "                 l = 1,\n",
    "                 constraints = UBayconstraint(rho=np.array([1]), \n",
    "                             constraint_types=[\"max_size\"], \n",
    "                             constraint_vars=[3], \n",
    "                             num_elements=data.shape[1]),\n",
    "                 optim_method = \"GA\",\n",
    "                 popsize = 100,\n",
    "                 maxiter = 100,\n",
    "                 random_state = 0)"
   ]
  },
  {
   "cell_type": "code",
   "execution_count": 8,
   "id": "588c2b30",
   "metadata": {},
   "outputs": [],
   "source": [
    "# add block constraints\n",
    "model.setConstraints(block_constraints, append=True)"
   ]
  },
  {
   "cell_type": "markdown",
   "id": "189160d9",
   "metadata": {},
   "source": [
    "Finallly, the model is trained."
   ]
  },
  {
   "cell_type": "code",
   "execution_count": 9,
   "id": "ff32aba6",
   "metadata": {},
   "outputs": [],
   "source": [
    "result = model.train()"
   ]
  },
  {
   "cell_type": "code",
   "execution_count": 10,
   "id": "754c0c16",
   "metadata": {},
   "outputs": [
    {
     "data": {
      "text/plain": [
       "{'cardinality': 3,\n",
       " 'total utility': -0.709,\n",
       " 'posterior feature utility': 0.291,\n",
       " 'admissibility': 0.0,\n",
       " 'number of violated constraints': 0,\n",
       " 'average feature correlation': 0.775}"
      ]
     },
     "execution_count": 10,
     "metadata": {},
     "output_type": "execute_result"
    }
   ],
   "source": [
    "model.evaluateFS(result[0].values[:,0])"
   ]
  },
  {
   "cell_type": "markdown",
   "id": "98100377",
   "metadata": {},
   "source": [
    "## Conclusion\n",
    "\n",
    "The specification of block constraints in the UBayFS model follows the same syntax as ordinary feature set constraints. Thus, block constraints can be easily integrated and combined with feature-wise constraints. Further, the framework allows setting arbitrary linear constraints for blocks, as well as for single features."
   ]
  }
 ],
 "metadata": {
  "kernelspec": {
   "display_name": "Python 3 (ipykernel)",
   "language": "python",
   "name": "python3"
  },
  "language_info": {
   "codemirror_mode": {
    "name": "ipython",
    "version": 3
   },
   "file_extension": ".py",
   "mimetype": "text/x-python",
   "name": "python",
   "nbconvert_exporter": "python",
   "pygments_lexer": "ipython3",
   "version": "3.10.9"
  }
 },
 "nbformat": 4,
 "nbformat_minor": 5
}
