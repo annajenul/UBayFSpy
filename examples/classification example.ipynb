{
 "cells": [
  {
   "cell_type": "markdown",
   "id": "8f4fe37e",
   "metadata": {},
   "source": [
    "# Feature selection on Breast Caner Wisconsin (Classification Problem)"
   ]
  },
  {
   "cell_type": "code",
   "execution_count": 1,
   "id": "0c0dddd5",
   "metadata": {},
   "outputs": [],
   "source": [
    "import pandas as pd\n",
    "import numpy as np\n",
    "import sys\n",
    "sys.path.append(\"../src/UBayFS\")\n",
    "\n",
    "from UBaymodel import UBaymodel\n",
    "from UBayconstraint import UBayconstraint"
   ]
  },
  {
   "cell_type": "code",
   "execution_count": 2,
   "id": "80d7a1ac",
   "metadata": {},
   "outputs": [],
   "source": [
    "data = pd.read_csv(\"./data/data.csv\")\n",
    "labels = pd.read_csv(\"./data/labels.csv\").replace((\"M\",\"B\"),(0,1)).astype(int)"
   ]
  },
  {
   "cell_type": "markdown",
   "id": "adaf3378",
   "metadata": {},
   "source": [
    "## Build UBaymodel"
   ]
  },
  {
   "cell_type": "code",
   "execution_count": 3,
   "id": "32e591a6",
   "metadata": {},
   "outputs": [],
   "source": [
    "model = UBaymodel(data=data,\n",
    "                 target = labels,\n",
    "                 feat_names = data.columns,\n",
    "                 weights = [0.01],\n",
    "                 M = 100, random_state=0,\n",
    "                 method=[ \"mrmr\"],\n",
    "                 nr_features = 5)"
   ]
  },
  {
   "cell_type": "code",
   "execution_count": 4,
   "id": "da929d88",
   "metadata": {},
   "outputs": [
    {
     "data": {
      "text/plain": [
       "[]"
      ]
     },
     "execution_count": 4,
     "metadata": {},
     "output_type": "execute_result"
    }
   ],
   "source": [
    "model.constraints"
   ]
  },
  {
   "cell_type": "code",
   "execution_count": 5,
   "id": "e497c968",
   "metadata": {},
   "outputs": [
    {
     "data": {
      "text/plain": [
       "{'optim_method': 'GA', 'popsize': 100, 'maxiter': 100}"
      ]
     },
     "execution_count": 5,
     "metadata": {},
     "output_type": "execute_result"
    }
   ],
   "source": [
    "model.getOptim()"
   ]
  },
  {
   "cell_type": "code",
   "execution_count": 6,
   "id": "84304284",
   "metadata": {},
   "outputs": [
    {
     "data": {
      "text/plain": [
       "30"
      ]
     },
     "execution_count": 6,
     "metadata": {},
     "output_type": "execute_result"
    }
   ],
   "source": [
    "model.ncol"
   ]
  },
  {
   "cell_type": "code",
   "execution_count": 7,
   "id": "4acfd145",
   "metadata": {},
   "outputs": [],
   "source": [
    "weights = np.tile(np.array([10,15,20,16,15,10,12,17,21,14]),3)\n",
    "strength = 1\n",
    "weights = weights * strength / np.sum(weights)\n",
    "model.setWeights(weights)"
   ]
  },
  {
   "cell_type": "code",
   "execution_count": 8,
   "id": "285ffaff",
   "metadata": {},
   "outputs": [
    {
     "data": {
      "text/plain": [
       "array([0.02222222, 0.03333333, 0.04444444, 0.03555556, 0.03333333,\n",
       "       0.02222222, 0.02666667, 0.03777778, 0.04666667, 0.03111111,\n",
       "       0.02222222, 0.03333333, 0.04444444, 0.03555556, 0.03333333,\n",
       "       0.02222222, 0.02666667, 0.03777778, 0.04666667, 0.03111111,\n",
       "       0.02222222, 0.03333333, 0.04444444, 0.03555556, 0.03333333,\n",
       "       0.02222222, 0.02666667, 0.03777778, 0.04666667, 0.03111111])"
      ]
     },
     "execution_count": 8,
     "metadata": {},
     "output_type": "execute_result"
    }
   ],
   "source": [
    "model.getWeights()"
   ]
  },
  {
   "cell_type": "code",
   "execution_count": 9,
   "id": "522e4441",
   "metadata": {},
   "outputs": [],
   "source": [
    "constraints = UBayconstraint(rho=np.array([np.Inf, 0.1, 1, 1]), \n",
    "                             constraint_types=[\"max_size\", \"must_link\", \"cannot_link\", \"cannot_link\",\"jjj\"], \n",
    "                             constraint_vars=[10, [0,10,20], [0,9], [19,22,23]], \n",
    "                             num_elements=data.shape[1])"
   ]
  },
  {
   "cell_type": "code",
   "execution_count": 10,
   "id": "0cd87260",
   "metadata": {},
   "outputs": [],
   "source": [
    "model.setConstraints(constraints)"
   ]
  },
  {
   "cell_type": "code",
   "execution_count": 11,
   "id": "412cac99",
   "metadata": {},
   "outputs": [],
   "source": [
    "model.setOptim(optim_method=\"GA\", popsize=100, maxiter=200)"
   ]
  },
  {
   "cell_type": "code",
   "execution_count": 12,
   "id": "556f1e97",
   "metadata": {},
   "outputs": [
    {
     "data": {
      "text/plain": [
       "{'optim_method': 'GA', 'popsize': 100, 'maxiter': 200}"
      ]
     },
     "execution_count": 12,
     "metadata": {},
     "output_type": "execute_result"
    }
   ],
   "source": [
    "model.getOptim()"
   ]
  },
  {
   "cell_type": "code",
   "execution_count": 13,
   "id": "988c3d26",
   "metadata": {},
   "outputs": [
    {
     "data": {
      "text/plain": [
       "['mean.perimeter',\n",
       " 'mean.concave.points',\n",
       " 'mean.symmetry',\n",
       " 'perimeter.error',\n",
       " 'concave.points.error',\n",
       " 'symmetry.error',\n",
       " 'worst.radius',\n",
       " 'worst.perimeter',\n",
       " 'worst.concave.points',\n",
       " 'worst.symmetry']"
      ]
     },
     "execution_count": 13,
     "metadata": {},
     "output_type": "execute_result"
    }
   ],
   "source": [
    "a = model.train()\n",
    "a[1]"
   ]
  },
  {
   "cell_type": "code",
   "execution_count": 14,
   "id": "2e0b5e7e",
   "metadata": {},
   "outputs": [
    {
     "data": {
      "text/plain": [
       "(30, 1)"
      ]
     },
     "execution_count": 14,
     "metadata": {},
     "output_type": "execute_result"
    }
   ],
   "source": [
    "a[0].values.shape"
   ]
  },
  {
   "cell_type": "code",
   "execution_count": 15,
   "id": "3c9622ab",
   "metadata": {},
   "outputs": [
    {
     "data": {
      "text/plain": [
       "{'cardinality': 10,\n",
       " 'total utility': -0.098,\n",
       " 'posterior feature utility': 0.999,\n",
       " 'admissibility': -0.102,\n",
       " 'number of violated constraints': 2,\n",
       " 'average feature correlation': 0.485}"
      ]
     },
     "execution_count": 15,
     "metadata": {},
     "output_type": "execute_result"
    }
   ],
   "source": [
    "model.evaluateFS(a[0].values[:,0])"
   ]
  },
  {
   "cell_type": "markdown",
   "id": "8041dd14",
   "metadata": {},
   "source": [
    "# Block model"
   ]
  },
  {
   "cell_type": "markdown",
   "id": "57c89006",
   "metadata": {},
   "source": [
    "## Version 1 with block list"
   ]
  },
  {
   "cell_type": "code",
   "execution_count": 16,
   "id": "d84a632a",
   "metadata": {},
   "outputs": [],
   "source": [
    "block_list = [np.arange(0,10), np.arange(10,20), np.arange(20,30)]"
   ]
  },
  {
   "cell_type": "code",
   "execution_count": 17,
   "id": "88d1843e",
   "metadata": {},
   "outputs": [],
   "source": [
    "block_constraints = UBayconstraint(rho=np.array([1]), \n",
    "                             constraint_types=[\"max_size\"], \n",
    "                             constraint_vars=[1], \n",
    "                             num_elements=len(block_list),\n",
    "                                block_list = block_list)"
   ]
  },
  {
   "cell_type": "code",
   "execution_count": 18,
   "id": "ca709797",
   "metadata": {},
   "outputs": [
    {
     "data": {
      "text/plain": [
       "{'A': array([[1., 1., 1.]]),\n",
       " 'b': array([1.]),\n",
       " 'rho': array([1.]),\n",
       " 'block_matrix': array([[1., 1., 1., 1., 1., 1., 1., 1., 1., 1., 0., 0., 0., 0., 0., 0.,\n",
       "         0., 0., 0., 0., 0., 0., 0., 0., 0., 0., 0., 0., 0., 0.],\n",
       "        [0., 0., 0., 0., 0., 0., 0., 0., 0., 0., 1., 1., 1., 1., 1., 1.,\n",
       "         1., 1., 1., 1., 0., 0., 0., 0., 0., 0., 0., 0., 0., 0.],\n",
       "        [0., 0., 0., 0., 0., 0., 0., 0., 0., 0., 0., 0., 0., 0., 0., 0.,\n",
       "         0., 0., 0., 0., 1., 1., 1., 1., 1., 1., 1., 1., 1., 1.]])}"
      ]
     },
     "execution_count": 18,
     "metadata": {},
     "output_type": "execute_result"
    }
   ],
   "source": [
    "block_constraints.get_constraints()"
   ]
  },
  {
   "cell_type": "code",
   "execution_count": 19,
   "id": "d30d899e",
   "metadata": {},
   "outputs": [
    {
     "data": {
      "text/html": [
       "<div>\n",
       "<style scoped>\n",
       "    .dataframe tbody tr th:only-of-type {\n",
       "        vertical-align: middle;\n",
       "    }\n",
       "\n",
       "    .dataframe tbody tr th {\n",
       "        vertical-align: top;\n",
       "    }\n",
       "\n",
       "    .dataframe thead th {\n",
       "        text-align: right;\n",
       "    }\n",
       "</style>\n",
       "<table border=\"1\" class=\"dataframe\">\n",
       "  <thead>\n",
       "    <tr style=\"text-align: right;\">\n",
       "      <th></th>\n",
       "      <th>0</th>\n",
       "      <th>1</th>\n",
       "      <th>2</th>\n",
       "      <th>3</th>\n",
       "      <th>4</th>\n",
       "      <th>5</th>\n",
       "      <th>6</th>\n",
       "      <th>7</th>\n",
       "      <th>8</th>\n",
       "      <th>9</th>\n",
       "      <th>...</th>\n",
       "      <th>20</th>\n",
       "      <th>21</th>\n",
       "      <th>22</th>\n",
       "      <th>23</th>\n",
       "      <th>24</th>\n",
       "      <th>25</th>\n",
       "      <th>26</th>\n",
       "      <th>27</th>\n",
       "      <th>28</th>\n",
       "      <th>29</th>\n",
       "    </tr>\n",
       "  </thead>\n",
       "  <tbody>\n",
       "    <tr>\n",
       "      <th>0</th>\n",
       "      <td>1.0</td>\n",
       "      <td>1.0</td>\n",
       "      <td>1.0</td>\n",
       "      <td>1.0</td>\n",
       "      <td>1.0</td>\n",
       "      <td>1.0</td>\n",
       "      <td>1.0</td>\n",
       "      <td>1.0</td>\n",
       "      <td>1.0</td>\n",
       "      <td>1.0</td>\n",
       "      <td>...</td>\n",
       "      <td>0.0</td>\n",
       "      <td>0.0</td>\n",
       "      <td>0.0</td>\n",
       "      <td>0.0</td>\n",
       "      <td>0.0</td>\n",
       "      <td>0.0</td>\n",
       "      <td>0.0</td>\n",
       "      <td>0.0</td>\n",
       "      <td>0.0</td>\n",
       "      <td>0.0</td>\n",
       "    </tr>\n",
       "    <tr>\n",
       "      <th>1</th>\n",
       "      <td>0.0</td>\n",
       "      <td>0.0</td>\n",
       "      <td>0.0</td>\n",
       "      <td>0.0</td>\n",
       "      <td>0.0</td>\n",
       "      <td>0.0</td>\n",
       "      <td>0.0</td>\n",
       "      <td>0.0</td>\n",
       "      <td>0.0</td>\n",
       "      <td>0.0</td>\n",
       "      <td>...</td>\n",
       "      <td>0.0</td>\n",
       "      <td>0.0</td>\n",
       "      <td>0.0</td>\n",
       "      <td>0.0</td>\n",
       "      <td>0.0</td>\n",
       "      <td>0.0</td>\n",
       "      <td>0.0</td>\n",
       "      <td>0.0</td>\n",
       "      <td>0.0</td>\n",
       "      <td>0.0</td>\n",
       "    </tr>\n",
       "    <tr>\n",
       "      <th>2</th>\n",
       "      <td>0.0</td>\n",
       "      <td>0.0</td>\n",
       "      <td>0.0</td>\n",
       "      <td>0.0</td>\n",
       "      <td>0.0</td>\n",
       "      <td>0.0</td>\n",
       "      <td>0.0</td>\n",
       "      <td>0.0</td>\n",
       "      <td>0.0</td>\n",
       "      <td>0.0</td>\n",
       "      <td>...</td>\n",
       "      <td>1.0</td>\n",
       "      <td>1.0</td>\n",
       "      <td>1.0</td>\n",
       "      <td>1.0</td>\n",
       "      <td>1.0</td>\n",
       "      <td>1.0</td>\n",
       "      <td>1.0</td>\n",
       "      <td>1.0</td>\n",
       "      <td>1.0</td>\n",
       "      <td>1.0</td>\n",
       "    </tr>\n",
       "  </tbody>\n",
       "</table>\n",
       "<p>3 rows × 30 columns</p>\n",
       "</div>"
      ],
      "text/plain": [
       "    0    1    2    3    4    5    6    7    8    9   ...   20   21   22   23  \\\n",
       "0  1.0  1.0  1.0  1.0  1.0  1.0  1.0  1.0  1.0  1.0  ...  0.0  0.0  0.0  0.0   \n",
       "1  0.0  0.0  0.0  0.0  0.0  0.0  0.0  0.0  0.0  0.0  ...  0.0  0.0  0.0  0.0   \n",
       "2  0.0  0.0  0.0  0.0  0.0  0.0  0.0  0.0  0.0  0.0  ...  1.0  1.0  1.0  1.0   \n",
       "\n",
       "    24   25   26   27   28   29  \n",
       "0  0.0  0.0  0.0  0.0  0.0  0.0  \n",
       "1  0.0  0.0  0.0  0.0  0.0  0.0  \n",
       "2  1.0  1.0  1.0  1.0  1.0  1.0  \n",
       "\n",
       "[3 rows x 30 columns]"
      ]
     },
     "execution_count": 19,
     "metadata": {},
     "output_type": "execute_result"
    }
   ],
   "source": [
    "pd.DataFrame(block_constraints.block_matrix)"
   ]
  },
  {
   "cell_type": "markdown",
   "id": "82e653ae",
   "metadata": {},
   "source": [
    "## Version 2 with block matrix"
   ]
  },
  {
   "cell_type": "code",
   "execution_count": 20,
   "id": "ce5cebb6",
   "metadata": {},
   "outputs": [],
   "source": [
    "block_matrix = np.zeros((3, model.ncol))\n",
    "block_matrix[0,np.arange(0,10)] = 1\n",
    "block_matrix[1,np.arange(10,20)] = 1\n",
    "block_matrix[2,np.arange(20,30)] = 1"
   ]
  },
  {
   "cell_type": "code",
   "execution_count": 21,
   "id": "9ee2196d",
   "metadata": {},
   "outputs": [
    {
     "data": {
      "text/html": [
       "<div>\n",
       "<style scoped>\n",
       "    .dataframe tbody tr th:only-of-type {\n",
       "        vertical-align: middle;\n",
       "    }\n",
       "\n",
       "    .dataframe tbody tr th {\n",
       "        vertical-align: top;\n",
       "    }\n",
       "\n",
       "    .dataframe thead th {\n",
       "        text-align: right;\n",
       "    }\n",
       "</style>\n",
       "<table border=\"1\" class=\"dataframe\">\n",
       "  <thead>\n",
       "    <tr style=\"text-align: right;\">\n",
       "      <th></th>\n",
       "      <th>0</th>\n",
       "      <th>1</th>\n",
       "      <th>2</th>\n",
       "      <th>3</th>\n",
       "      <th>4</th>\n",
       "      <th>5</th>\n",
       "      <th>6</th>\n",
       "      <th>7</th>\n",
       "      <th>8</th>\n",
       "      <th>9</th>\n",
       "      <th>...</th>\n",
       "      <th>20</th>\n",
       "      <th>21</th>\n",
       "      <th>22</th>\n",
       "      <th>23</th>\n",
       "      <th>24</th>\n",
       "      <th>25</th>\n",
       "      <th>26</th>\n",
       "      <th>27</th>\n",
       "      <th>28</th>\n",
       "      <th>29</th>\n",
       "    </tr>\n",
       "  </thead>\n",
       "  <tbody>\n",
       "    <tr>\n",
       "      <th>0</th>\n",
       "      <td>1.0</td>\n",
       "      <td>1.0</td>\n",
       "      <td>1.0</td>\n",
       "      <td>1.0</td>\n",
       "      <td>1.0</td>\n",
       "      <td>1.0</td>\n",
       "      <td>1.0</td>\n",
       "      <td>1.0</td>\n",
       "      <td>1.0</td>\n",
       "      <td>1.0</td>\n",
       "      <td>...</td>\n",
       "      <td>0.0</td>\n",
       "      <td>0.0</td>\n",
       "      <td>0.0</td>\n",
       "      <td>0.0</td>\n",
       "      <td>0.0</td>\n",
       "      <td>0.0</td>\n",
       "      <td>0.0</td>\n",
       "      <td>0.0</td>\n",
       "      <td>0.0</td>\n",
       "      <td>0.0</td>\n",
       "    </tr>\n",
       "    <tr>\n",
       "      <th>1</th>\n",
       "      <td>0.0</td>\n",
       "      <td>0.0</td>\n",
       "      <td>0.0</td>\n",
       "      <td>0.0</td>\n",
       "      <td>0.0</td>\n",
       "      <td>0.0</td>\n",
       "      <td>0.0</td>\n",
       "      <td>0.0</td>\n",
       "      <td>0.0</td>\n",
       "      <td>0.0</td>\n",
       "      <td>...</td>\n",
       "      <td>0.0</td>\n",
       "      <td>0.0</td>\n",
       "      <td>0.0</td>\n",
       "      <td>0.0</td>\n",
       "      <td>0.0</td>\n",
       "      <td>0.0</td>\n",
       "      <td>0.0</td>\n",
       "      <td>0.0</td>\n",
       "      <td>0.0</td>\n",
       "      <td>0.0</td>\n",
       "    </tr>\n",
       "    <tr>\n",
       "      <th>2</th>\n",
       "      <td>0.0</td>\n",
       "      <td>0.0</td>\n",
       "      <td>0.0</td>\n",
       "      <td>0.0</td>\n",
       "      <td>0.0</td>\n",
       "      <td>0.0</td>\n",
       "      <td>0.0</td>\n",
       "      <td>0.0</td>\n",
       "      <td>0.0</td>\n",
       "      <td>0.0</td>\n",
       "      <td>...</td>\n",
       "      <td>1.0</td>\n",
       "      <td>1.0</td>\n",
       "      <td>1.0</td>\n",
       "      <td>1.0</td>\n",
       "      <td>1.0</td>\n",
       "      <td>1.0</td>\n",
       "      <td>1.0</td>\n",
       "      <td>1.0</td>\n",
       "      <td>1.0</td>\n",
       "      <td>1.0</td>\n",
       "    </tr>\n",
       "  </tbody>\n",
       "</table>\n",
       "<p>3 rows × 30 columns</p>\n",
       "</div>"
      ],
      "text/plain": [
       "    0    1    2    3    4    5    6    7    8    9   ...   20   21   22   23  \\\n",
       "0  1.0  1.0  1.0  1.0  1.0  1.0  1.0  1.0  1.0  1.0  ...  0.0  0.0  0.0  0.0   \n",
       "1  0.0  0.0  0.0  0.0  0.0  0.0  0.0  0.0  0.0  0.0  ...  0.0  0.0  0.0  0.0   \n",
       "2  0.0  0.0  0.0  0.0  0.0  0.0  0.0  0.0  0.0  0.0  ...  1.0  1.0  1.0  1.0   \n",
       "\n",
       "    24   25   26   27   28   29  \n",
       "0  0.0  0.0  0.0  0.0  0.0  0.0  \n",
       "1  0.0  0.0  0.0  0.0  0.0  0.0  \n",
       "2  1.0  1.0  1.0  1.0  1.0  1.0  \n",
       "\n",
       "[3 rows x 30 columns]"
      ]
     },
     "execution_count": 21,
     "metadata": {},
     "output_type": "execute_result"
    }
   ],
   "source": [
    "pd.DataFrame(block_matrix)"
   ]
  },
  {
   "cell_type": "code",
   "execution_count": 22,
   "id": "a44b1490",
   "metadata": {},
   "outputs": [
    {
     "data": {
      "text/plain": [
       "30"
      ]
     },
     "execution_count": 22,
     "metadata": {},
     "output_type": "execute_result"
    }
   ],
   "source": [
    "block_matrix.shape[1]"
   ]
  },
  {
   "cell_type": "code",
   "execution_count": 23,
   "id": "9d9cc412",
   "metadata": {},
   "outputs": [],
   "source": [
    "block_constraints_2 = UBayconstraint(rho=np.array([1]), \n",
    "                             constraint_types=[\"max_size\", \"must_link\"], \n",
    "                             constraint_vars=[1,[1,2]], \n",
    "                             num_elements=3,\n",
    "                                block_matrix = block_matrix)"
   ]
  },
  {
   "cell_type": "code",
   "execution_count": 24,
   "id": "1ae300fe",
   "metadata": {},
   "outputs": [],
   "source": [
    "# define block weights\n",
    "\n",
    "def build_block_weights(blocks, weights):\n",
    "    weights_ass = []\n",
    "    for i in blocks:\n",
    "        weights_ass.append(weights[i])\n",
    "    return np.array(weights_ass)"
   ]
  },
  {
   "cell_type": "code",
   "execution_count": 25,
   "id": "d0923f5d",
   "metadata": {},
   "outputs": [],
   "source": [
    "prior_weights = build_block_weights(blocks = np.repeat([0,1,2], 10), weights=np.array([0.5,1,2]))"
   ]
  },
  {
   "cell_type": "markdown",
   "id": "919c461a",
   "metadata": {},
   "source": [
    "## Build model and add constraints"
   ]
  },
  {
   "cell_type": "code",
   "execution_count": 26,
   "id": "7d4f030b",
   "metadata": {},
   "outputs": [],
   "source": [
    "model = UBaymodel(data=data,\n",
    "                 target = labels,\n",
    "                 feat_names = data.columns,\n",
    "                 M = 100, random_state=10,\n",
    "                 weights = prior_weights,\n",
    "                 method=[ \"mrmr\"],\n",
    "                 nr_features = 5)"
   ]
  },
  {
   "cell_type": "code",
   "execution_count": 27,
   "id": "adaace3f",
   "metadata": {},
   "outputs": [
    {
     "data": {
      "text/html": [
       "<div>\n",
       "<style scoped>\n",
       "    .dataframe tbody tr th:only-of-type {\n",
       "        vertical-align: middle;\n",
       "    }\n",
       "\n",
       "    .dataframe tbody tr th {\n",
       "        vertical-align: top;\n",
       "    }\n",
       "\n",
       "    .dataframe thead th {\n",
       "        text-align: right;\n",
       "    }\n",
       "</style>\n",
       "<table border=\"1\" class=\"dataframe\">\n",
       "  <thead>\n",
       "    <tr style=\"text-align: right;\">\n",
       "      <th></th>\n",
       "      <th>0</th>\n",
       "      <th>1</th>\n",
       "      <th>2</th>\n",
       "    </tr>\n",
       "  </thead>\n",
       "  <tbody>\n",
       "    <tr>\n",
       "      <th>0</th>\n",
       "      <td>1.0</td>\n",
       "      <td>1.0</td>\n",
       "      <td>1.0</td>\n",
       "    </tr>\n",
       "  </tbody>\n",
       "</table>\n",
       "</div>"
      ],
      "text/plain": [
       "     0    1    2\n",
       "0  1.0  1.0  1.0"
      ]
     },
     "execution_count": 27,
     "metadata": {},
     "output_type": "execute_result"
    }
   ],
   "source": [
    "pd.DataFrame(block_constraints.A)"
   ]
  },
  {
   "cell_type": "code",
   "execution_count": 28,
   "id": "94ae32c7",
   "metadata": {},
   "outputs": [
    {
     "data": {
      "text/html": [
       "<div>\n",
       "<style scoped>\n",
       "    .dataframe tbody tr th:only-of-type {\n",
       "        vertical-align: middle;\n",
       "    }\n",
       "\n",
       "    .dataframe tbody tr th {\n",
       "        vertical-align: top;\n",
       "    }\n",
       "\n",
       "    .dataframe thead th {\n",
       "        text-align: right;\n",
       "    }\n",
       "</style>\n",
       "<table border=\"1\" class=\"dataframe\">\n",
       "  <thead>\n",
       "    <tr style=\"text-align: right;\">\n",
       "      <th></th>\n",
       "      <th>0</th>\n",
       "      <th>1</th>\n",
       "      <th>2</th>\n",
       "    </tr>\n",
       "  </thead>\n",
       "  <tbody>\n",
       "    <tr>\n",
       "      <th>0</th>\n",
       "      <td>1.0</td>\n",
       "      <td>1.0</td>\n",
       "      <td>1.0</td>\n",
       "    </tr>\n",
       "    <tr>\n",
       "      <th>1</th>\n",
       "      <td>0.0</td>\n",
       "      <td>1.0</td>\n",
       "      <td>-1.0</td>\n",
       "    </tr>\n",
       "    <tr>\n",
       "      <th>2</th>\n",
       "      <td>0.0</td>\n",
       "      <td>-1.0</td>\n",
       "      <td>1.0</td>\n",
       "    </tr>\n",
       "  </tbody>\n",
       "</table>\n",
       "</div>"
      ],
      "text/plain": [
       "     0    1    2\n",
       "0  1.0  1.0  1.0\n",
       "1  0.0  1.0 -1.0\n",
       "2  0.0 -1.0  1.0"
      ]
     },
     "execution_count": 28,
     "metadata": {},
     "output_type": "execute_result"
    }
   ],
   "source": [
    "pd.DataFrame(block_constraints_2.A)"
   ]
  },
  {
   "cell_type": "code",
   "execution_count": 29,
   "id": "defc10c2",
   "metadata": {},
   "outputs": [],
   "source": [
    "model.setConstraints(block_constraints)\n",
    "model.setConstraints(block_constraints_2, append=True)\n",
    "\n",
    "# add max-size constraint\n",
    "model.setConstraints(UBayconstraint(rho=np.array([1]), \n",
    "                             constraint_types=[\"max_size\"], \n",
    "                             constraint_vars=[3], \n",
    "                             num_elements=model.ncol),\n",
    "                    append=True)"
   ]
  },
  {
   "cell_type": "code",
   "execution_count": 30,
   "id": "d44b2a87",
   "metadata": {},
   "outputs": [
    {
     "data": {
      "text/plain": [
       "[<UBayconstraint.UBayconstraint at 0x24c9ad3f220>,\n",
       " <UBayconstraint.UBayconstraint at 0x24c93202020>]"
      ]
     },
     "execution_count": 30,
     "metadata": {},
     "output_type": "execute_result"
    }
   ],
   "source": [
    "model.getConstraints()"
   ]
  },
  {
   "cell_type": "code",
   "execution_count": 31,
   "id": "2604d106",
   "metadata": {},
   "outputs": [
    {
     "data": {
      "text/plain": [
       "(                         0\n",
       " mean.radius              0\n",
       " mean.texture             1\n",
       " mean.perimeter           1\n",
       " mean.area                0\n",
       " mean.smoothness          0\n",
       " mean.compactness         0\n",
       " mean.concavity           0\n",
       " mean.concave.points      1\n",
       " mean.symmetry            0\n",
       " mean.fractal.dimension   0\n",
       " radius.error             0\n",
       " texture.error            0\n",
       " perimeter.error          0\n",
       " area.error               0\n",
       " smoothness.error         0\n",
       " compactness.error        0\n",
       " concavity.error          0\n",
       " concave.points.error     0\n",
       " symmetry.error           0\n",
       " fractal.dimension.error  0\n",
       " worst.radius             0\n",
       " worst.texture            0\n",
       " worst.perimeter          0\n",
       " worst.area               0\n",
       " worst.smoothness         0\n",
       " worst.compactness        0\n",
       " worst.concavity          0\n",
       " worst.concave.points     0\n",
       " worst.symmetry           0\n",
       " worst.fractal.dimension  0,\n",
       " ['mean.texture', 'mean.perimeter', 'mean.concave.points'])"
      ]
     },
     "execution_count": 31,
     "metadata": {},
     "output_type": "execute_result"
    }
   ],
   "source": [
    "model.train()"
   ]
  },
  {
   "cell_type": "code",
   "execution_count": 32,
   "id": "2210a161",
   "metadata": {},
   "outputs": [
    {
     "data": {
      "text/plain": [
       "mean.radius                  0\n",
       "mean.texture                 0\n",
       "mean.perimeter             100\n",
       "mean.area                    0\n",
       "mean.smoothness              0\n",
       "mean.compactness             0\n",
       "mean.concavity               0\n",
       "mean.concave.points        100\n",
       "mean.symmetry                0\n",
       "mean.fractal.dimension       0\n",
       "radius.error                 0\n",
       "texture.error                0\n",
       "perimeter.error              0\n",
       "area.error                   0\n",
       "smoothness.error             0\n",
       "compactness.error            0\n",
       "concavity.error              0\n",
       "concave.points.error         0\n",
       "symmetry.error               0\n",
       "fractal.dimension.error      0\n",
       "worst.radius               100\n",
       "worst.texture                0\n",
       "worst.perimeter            100\n",
       "worst.area                   0\n",
       "worst.smoothness             0\n",
       "worst.compactness            0\n",
       "worst.concavity              0\n",
       "worst.concave.points       100\n",
       "worst.symmetry               0\n",
       "worst.fractal.dimension      0\n",
       "dtype: object"
      ]
     },
     "execution_count": 32,
     "metadata": {},
     "output_type": "execute_result"
    }
   ],
   "source": [
    "model.counts"
   ]
  }
 ],
 "metadata": {
  "kernelspec": {
   "display_name": "Python 3 (ipykernel)",
   "language": "python",
   "name": "python3"
  },
  "language_info": {
   "codemirror_mode": {
    "name": "ipython",
    "version": 3
   },
   "file_extension": ".py",
   "mimetype": "text/x-python",
   "name": "python",
   "nbconvert_exporter": "python",
   "pygments_lexer": "ipython3",
   "version": "3.10.9"
  }
 },
 "nbformat": 4,
 "nbformat_minor": 5
}
